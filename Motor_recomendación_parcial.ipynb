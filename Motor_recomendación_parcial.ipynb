{
 "cells": [
  {
   "cell_type": "code",
   "execution_count": null,
   "metadata": {
    "colab": {
     "base_uri": "https://localhost:8080/"
    },
    "id": "YxVPnfsjqol7",
    "outputId": "fa608edf-9c64-4b8d-e109-03fb718bdbc1"
   },
   "outputs": [
    {
     "name": "stdout",
     "output_type": "stream",
     "text": [
      "Collecting pip==24.0.0\n",
      "  Downloading pip-24.0-py3-none-any.whl.metadata (3.6 kB)\n",
      "Downloading pip-24.0-py3-none-any.whl (2.1 MB)\n",
      "\u001b[?25l   \u001b[90m━━━━━━━━━━━━━━━━━━━━━━━━━━━━━━━━━━━━━━━━\u001b[0m \u001b[32m0.0/2.1 MB\u001b[0m \u001b[31m?\u001b[0m eta \u001b[36m-:--:--\u001b[0m\r\u001b[2K   \u001b[91m━━━━━━━━━━━━\u001b[0m\u001b[90m╺\u001b[0m\u001b[90m━━━━━━━━━━━━━━━━━━━━━━━━━━━\u001b[0m \u001b[32m0.6/2.1 MB\u001b[0m \u001b[31m20.6 MB/s\u001b[0m eta \u001b[36m0:00:01\u001b[0m\r\u001b[2K   \u001b[91m━━━━━━━━━━━━━━━━━━━━━━━━━━━━━━━━━━━━━━━\u001b[0m\u001b[91m╸\u001b[0m \u001b[32m2.1/2.1 MB\u001b[0m \u001b[31m37.9 MB/s\u001b[0m eta \u001b[36m0:00:01\u001b[0m\r\u001b[2K   \u001b[90m━━━━━━━━━━━━━━━━━━━━━━━━━━━━━━━━━━━━━━━━\u001b[0m \u001b[32m2.1/2.1 MB\u001b[0m \u001b[31m25.4 MB/s\u001b[0m eta \u001b[36m0:00:00\u001b[0m\n",
      "\u001b[?25hInstalling collected packages: pip\n",
      "  Attempting uninstall: pip\n",
      "    Found existing installation: pip 24.1.2\n",
      "    Uninstalling pip-24.1.2:\n",
      "      Successfully uninstalled pip-24.1.2\n",
      "Successfully installed pip-24.0\n"
     ]
    }
   ],
   "source": [
    "!pip install pip==24.0.0"
   ]
  },
  {
   "cell_type": "code",
   "execution_count": null,
   "metadata": {
    "colab": {
     "base_uri": "https://localhost:8080/"
    },
    "id": "O-DdQ7OZmWnv",
    "outputId": "84177c86-7137-4511-9930-237f72505dd1"
   },
   "outputs": [
    {
     "name": "stdout",
     "output_type": "stream",
     "text": [
      "Collecting pytorch_lightning==1.8.2\n",
      "  Downloading pytorch_lightning-1.8.2-py3-none-any.whl.metadata (25 kB)\n",
      "Requirement already satisfied: numpy>=1.17.2 in /usr/local/lib/python3.10/dist-packages (from pytorch_lightning==1.8.2) (1.26.4)\n",
      "Requirement already satisfied: torch>=1.9.* in /usr/local/lib/python3.10/dist-packages (from pytorch_lightning==1.8.2) (2.5.1+cu121)\n",
      "Requirement already satisfied: tqdm>=4.57.0 in /usr/local/lib/python3.10/dist-packages (from pytorch_lightning==1.8.2) (4.66.6)\n",
      "Requirement already satisfied: PyYAML>=5.4 in /usr/local/lib/python3.10/dist-packages (from pytorch_lightning==1.8.2) (6.0.2)\n",
      "Requirement already satisfied: fsspec>2021.06.0 in /usr/local/lib/python3.10/dist-packages (from fsspec[http]>2021.06.0->pytorch_lightning==1.8.2) (2024.10.0)\n",
      "Requirement already satisfied: tensorboard>=2.9.1 in /usr/local/lib/python3.10/dist-packages (from pytorch_lightning==1.8.2) (2.17.1)\n",
      "Collecting torchmetrics>=0.7.0 (from pytorch_lightning==1.8.2)\n",
      "  Downloading torchmetrics-1.6.0-py3-none-any.whl.metadata (20 kB)\n",
      "Requirement already satisfied: packaging>=17.0 in /usr/local/lib/python3.10/dist-packages (from pytorch_lightning==1.8.2) (24.2)\n",
      "Requirement already satisfied: typing-extensions>=4.0.0 in /usr/local/lib/python3.10/dist-packages (from pytorch_lightning==1.8.2) (4.12.2)\n",
      "Collecting lightning-utilities==0.3.* (from pytorch_lightning==1.8.2)\n",
      "  Downloading lightning_utilities-0.3.0-py3-none-any.whl.metadata (3.7 kB)\n",
      "Collecting fire (from lightning-utilities==0.3.*->pytorch_lightning==1.8.2)\n",
      "  Downloading fire-0.7.0.tar.gz (87 kB)\n",
      "\u001b[2K     \u001b[90m━━━━━━━━━━━━━━━━━━━━━━━━━━━━━━━━━━━━━━━━\u001b[0m \u001b[32m87.2/87.2 kB\u001b[0m \u001b[31m4.5 MB/s\u001b[0m eta \u001b[36m0:00:00\u001b[0m\n",
      "\u001b[?25h  Preparing metadata (setup.py) ... \u001b[?25l\u001b[?25hdone\n",
      "Requirement already satisfied: aiohttp!=4.0.0a0,!=4.0.0a1 in /usr/local/lib/python3.10/dist-packages (from fsspec[http]>2021.06.0->pytorch_lightning==1.8.2) (3.11.2)\n",
      "Requirement already satisfied: absl-py>=0.4 in /usr/local/lib/python3.10/dist-packages (from tensorboard>=2.9.1->pytorch_lightning==1.8.2) (1.4.0)\n",
      "Requirement already satisfied: grpcio>=1.48.2 in /usr/local/lib/python3.10/dist-packages (from tensorboard>=2.9.1->pytorch_lightning==1.8.2) (1.68.0)\n",
      "Requirement already satisfied: markdown>=2.6.8 in /usr/local/lib/python3.10/dist-packages (from tensorboard>=2.9.1->pytorch_lightning==1.8.2) (3.7)\n",
      "Requirement already satisfied: protobuf!=4.24.0,>=3.19.6 in /usr/local/lib/python3.10/dist-packages (from tensorboard>=2.9.1->pytorch_lightning==1.8.2) (4.25.5)\n",
      "Requirement already satisfied: setuptools>=41.0.0 in /usr/local/lib/python3.10/dist-packages (from tensorboard>=2.9.1->pytorch_lightning==1.8.2) (75.1.0)\n",
      "Requirement already satisfied: six>1.9 in /usr/local/lib/python3.10/dist-packages (from tensorboard>=2.9.1->pytorch_lightning==1.8.2) (1.16.0)\n",
      "Requirement already satisfied: tensorboard-data-server<0.8.0,>=0.7.0 in /usr/local/lib/python3.10/dist-packages (from tensorboard>=2.9.1->pytorch_lightning==1.8.2) (0.7.2)\n",
      "Requirement already satisfied: werkzeug>=1.0.1 in /usr/local/lib/python3.10/dist-packages (from tensorboard>=2.9.1->pytorch_lightning==1.8.2) (3.1.3)\n",
      "Requirement already satisfied: filelock in /usr/local/lib/python3.10/dist-packages (from torch>=1.9.*->pytorch_lightning==1.8.2) (3.16.1)\n",
      "Requirement already satisfied: networkx in /usr/local/lib/python3.10/dist-packages (from torch>=1.9.*->pytorch_lightning==1.8.2) (3.4.2)\n",
      "Requirement already satisfied: jinja2 in /usr/local/lib/python3.10/dist-packages (from torch>=1.9.*->pytorch_lightning==1.8.2) (3.1.4)\n",
      "Requirement already satisfied: sympy==1.13.1 in /usr/local/lib/python3.10/dist-packages (from torch>=1.9.*->pytorch_lightning==1.8.2) (1.13.1)\n",
      "Requirement already satisfied: mpmath<1.4,>=1.1.0 in /usr/local/lib/python3.10/dist-packages (from sympy==1.13.1->torch>=1.9.*->pytorch_lightning==1.8.2) (1.3.0)\n",
      "INFO: pip is looking at multiple versions of torchmetrics to determine which version is compatible with other requirements. This could take a while.\n",
      "Collecting torchmetrics>=0.7.0 (from pytorch_lightning==1.8.2)\n",
      "  Downloading torchmetrics-1.5.2-py3-none-any.whl.metadata (20 kB)\n",
      "  Downloading torchmetrics-1.5.1-py3-none-any.whl.metadata (20 kB)\n",
      "  Downloading torchmetrics-1.5.0-py3-none-any.whl.metadata (20 kB)\n",
      "  Downloading torchmetrics-1.4.3-py3-none-any.whl.metadata (19 kB)\n",
      "  Downloading torchmetrics-1.4.2-py3-none-any.whl.metadata (19 kB)\n",
      "  Downloading torchmetrics-1.4.1-py3-none-any.whl.metadata (20 kB)\n",
      "  Downloading torchmetrics-1.4.0.post0-py3-none-any.whl.metadata (19 kB)\n",
      "INFO: pip is still looking at multiple versions of torchmetrics to determine which version is compatible with other requirements. This could take a while.\n",
      "  Downloading torchmetrics-1.4.0-py3-none-any.whl.metadata (19 kB)\n",
      "  Downloading torchmetrics-1.3.2-py3-none-any.whl.metadata (19 kB)\n",
      "  Downloading torchmetrics-1.3.1-py3-none-any.whl.metadata (19 kB)\n",
      "  Downloading torchmetrics-1.3.0.post0-py3-none-any.whl.metadata (20 kB)\n",
      "  Downloading torchmetrics-1.2.1-py3-none-any.whl.metadata (20 kB)\n",
      "INFO: This is taking longer than usual. You might need to provide the dependency resolver with stricter constraints to reduce runtime. See https://pip.pypa.io/warnings/backtracking for guidance. If you want to abort this run, press Ctrl + C.\n",
      "  Downloading torchmetrics-1.2.0-py3-none-any.whl.metadata (21 kB)\n",
      "  Downloading torchmetrics-1.1.2-py3-none-any.whl.metadata (21 kB)\n",
      "  Downloading torchmetrics-1.1.1-py3-none-any.whl.metadata (21 kB)\n",
      "  Downloading torchmetrics-1.1.0-py3-none-any.whl.metadata (21 kB)\n",
      "  Downloading torchmetrics-1.0.3-py3-none-any.whl.metadata (21 kB)\n",
      "  Downloading torchmetrics-1.0.2-py3-none-any.whl.metadata (21 kB)\n",
      "  Downloading torchmetrics-1.0.1-py3-none-any.whl.metadata (21 kB)\n",
      "  Downloading torchmetrics-1.0.0-py3-none-any.whl.metadata (21 kB)\n",
      "  Downloading torchmetrics-0.11.4-py3-none-any.whl.metadata (15 kB)\n",
      "Requirement already satisfied: aiohappyeyeballs>=2.3.0 in /usr/local/lib/python3.10/dist-packages (from aiohttp!=4.0.0a0,!=4.0.0a1->fsspec[http]>2021.06.0->pytorch_lightning==1.8.2) (2.4.3)\n",
      "Requirement already satisfied: aiosignal>=1.1.2 in /usr/local/lib/python3.10/dist-packages (from aiohttp!=4.0.0a0,!=4.0.0a1->fsspec[http]>2021.06.0->pytorch_lightning==1.8.2) (1.3.1)\n",
      "Requirement already satisfied: attrs>=17.3.0 in /usr/local/lib/python3.10/dist-packages (from aiohttp!=4.0.0a0,!=4.0.0a1->fsspec[http]>2021.06.0->pytorch_lightning==1.8.2) (24.2.0)\n",
      "Requirement already satisfied: frozenlist>=1.1.1 in /usr/local/lib/python3.10/dist-packages (from aiohttp!=4.0.0a0,!=4.0.0a1->fsspec[http]>2021.06.0->pytorch_lightning==1.8.2) (1.5.0)\n",
      "Requirement already satisfied: multidict<7.0,>=4.5 in /usr/local/lib/python3.10/dist-packages (from aiohttp!=4.0.0a0,!=4.0.0a1->fsspec[http]>2021.06.0->pytorch_lightning==1.8.2) (6.1.0)\n",
      "Requirement already satisfied: propcache>=0.2.0 in /usr/local/lib/python3.10/dist-packages (from aiohttp!=4.0.0a0,!=4.0.0a1->fsspec[http]>2021.06.0->pytorch_lightning==1.8.2) (0.2.0)\n",
      "Requirement already satisfied: yarl<2.0,>=1.17.0 in /usr/local/lib/python3.10/dist-packages (from aiohttp!=4.0.0a0,!=4.0.0a1->fsspec[http]>2021.06.0->pytorch_lightning==1.8.2) (1.17.2)\n",
      "Requirement already satisfied: async-timeout<6.0,>=4.0 in /usr/local/lib/python3.10/dist-packages (from aiohttp!=4.0.0a0,!=4.0.0a1->fsspec[http]>2021.06.0->pytorch_lightning==1.8.2) (4.0.3)\n",
      "Requirement already satisfied: MarkupSafe>=2.1.1 in /usr/local/lib/python3.10/dist-packages (from werkzeug>=1.0.1->tensorboard>=2.9.1->pytorch_lightning==1.8.2) (3.0.2)\n",
      "Requirement already satisfied: termcolor in /usr/local/lib/python3.10/dist-packages (from fire->lightning-utilities==0.3.*->pytorch_lightning==1.8.2) (2.5.0)\n",
      "Requirement already satisfied: idna>=2.0 in /usr/local/lib/python3.10/dist-packages (from yarl<2.0,>=1.17.0->aiohttp!=4.0.0a0,!=4.0.0a1->fsspec[http]>2021.06.0->pytorch_lightning==1.8.2) (3.10)\n",
      "Downloading pytorch_lightning-1.8.2-py3-none-any.whl (798 kB)\n",
      "\u001b[2K   \u001b[90m━━━━━━━━━━━━━━━━━━━━━━━━━━━━━━━━━━━━━━━━\u001b[0m \u001b[32m798.7/798.7 kB\u001b[0m \u001b[31m25.8 MB/s\u001b[0m eta \u001b[36m0:00:00\u001b[0m\n",
      "\u001b[?25hDownloading lightning_utilities-0.3.0-py3-none-any.whl (15 kB)\n",
      "Downloading torchmetrics-0.11.4-py3-none-any.whl (519 kB)\n",
      "\u001b[2K   \u001b[90m━━━━━━━━━━━━━━━━━━━━━━━━━━━━━━━━━━━━━━━━\u001b[0m \u001b[32m519.2/519.2 kB\u001b[0m \u001b[31m34.9 MB/s\u001b[0m eta \u001b[36m0:00:00\u001b[0m\n",
      "\u001b[?25hBuilding wheels for collected packages: fire\n",
      "  Building wheel for fire (setup.py) ... \u001b[?25l\u001b[?25hdone\n",
      "  Created wheel for fire: filename=fire-0.7.0-py3-none-any.whl size=114249 sha256=bd32002bc2dd202e4635dabd215bb193c788194d355bbc1cb6925c803736907e\n",
      "  Stored in directory: /root/.cache/pip/wheels/19/39/2f/2d3cadc408a8804103f1c34ddd4b9f6a93497b11fa96fe738e\n",
      "Successfully built fire\n",
      "\u001b[33mDEPRECATION: pytorch-lightning 1.8.2 has a non-standard dependency specifier torch>=1.9.*. pip 24.1 will enforce this behaviour change. A possible replacement is to upgrade to a newer version of pytorch-lightning or contact the author to suggest that they release a version with a conforming dependency specifiers. Discussion can be found at https://github.com/pypa/pip/issues/12063\u001b[0m\u001b[33m\n",
      "\u001b[0mInstalling collected packages: fire, lightning-utilities, torchmetrics, pytorch_lightning\n",
      "Successfully installed fire-0.7.0 lightning-utilities-0.3.0 pytorch_lightning-1.8.2 torchmetrics-0.11.4\n"
     ]
    }
   ],
   "source": [
    "!pip install pytorch_lightning==1.8.2"
   ]
  },
  {
   "cell_type": "code",
   "execution_count": null,
   "metadata": {
    "id": "xzlN4JJjmYQC"
   },
   "outputs": [],
   "source": [
    "import pandas as pd\n",
    "import numpy as np\n",
    "\n",
    "import torch\n",
    "from torch.utils.data import Dataset\n",
    "import torch.nn as nn\n",
    "import pytorch_lightning as pl\n",
    "from torch.utils.data import DataLoader\n",
    "from google.colab import drive"
   ]
  },
  {
   "cell_type": "code",
   "execution_count": null,
   "metadata": {
    "colab": {
     "base_uri": "https://localhost:8080/"
    },
    "id": "iin0FhFymaHf",
    "outputId": "3d1a9fdc-ca4d-4b33-df1f-9932bd254313"
   },
   "outputs": [
    {
     "name": "stdout",
     "output_type": "stream",
     "text": [
      "Drive already mounted at /content/drive; to attempt to forcibly remount, call drive.mount(\"/content/drive\", force_remount=True).\n"
     ]
    }
   ],
   "source": [
    "drive.mount('/content/drive')"
   ]
  },
  {
   "cell_type": "code",
   "execution_count": null,
   "metadata": {
    "id": "dTgb3jmFmdAe"
   },
   "outputs": [],
   "source": [
    "path = \"/content/drive/MyDrive/CIRCULA_23_TRANSF_S.xlsx\"\n",
    "libros = pd.read_excel(path, sheet_name=1, parse_dates=['Fecha de préstamo'])"
   ]
  },
  {
   "cell_type": "code",
   "execution_count": 4,
   "metadata": {
    "colab": {
     "base_uri": "https://localhost:8080/",
     "height": 585
    },
    "id": "03xao-3nme7m",
    "outputId": "715a2558-33de-4028-b0b2-6430b1b85670"
   },
   "outputs": [
    {
     "data": {
      "text/html": [
       "<div>\n",
       "<style scoped>\n",
       "    .dataframe tbody tr th:only-of-type {\n",
       "        vertical-align: middle;\n",
       "    }\n",
       "\n",
       "    .dataframe tbody tr th {\n",
       "        vertical-align: top;\n",
       "    }\n",
       "\n",
       "    .dataframe thead th {\n",
       "        text-align: right;\n",
       "    }\n",
       "</style>\n",
       "<table border=\"1\" class=\"dataframe\">\n",
       "  <thead>\n",
       "    <tr style=\"text-align: right;\">\n",
       "      <th></th>\n",
       "      <th>Biblioteca de Prestamo</th>\n",
       "      <th>Meson de Circulación</th>\n",
       "      <th>Cod Biblioteca origen Item</th>\n",
       "      <th>Biblioteca origen Item</th>\n",
       "      <th>Cod de Localizacion</th>\n",
       "      <th>Localización Item</th>\n",
       "      <th>Prestamos en Sala</th>\n",
       "      <th>Prestamos Externo</th>\n",
       "      <th>Barcode</th>\n",
       "      <th>MMS Id</th>\n",
       "      <th>...</th>\n",
       "      <th>Fecha de ingreso del Item</th>\n",
       "      <th>Categoría Socio</th>\n",
       "      <th>Identificador Socio</th>\n",
       "      <th>dewey</th>\n",
       "      <th>Dewey_1</th>\n",
       "      <th>Dewey3</th>\n",
       "      <th>Dewey4.1</th>\n",
       "      <th>Dewey4.1 - Copia</th>\n",
       "      <th>Dewey_2</th>\n",
       "      <th>TIPO MATERIAL</th>\n",
       "    </tr>\n",
       "  </thead>\n",
       "  <tbody>\n",
       "    <tr>\n",
       "      <th>0</th>\n",
       "      <td>Biblioteca Luis Ángel Arango</td>\n",
       "      <td>Préstamo Externo Calle 12 - Solo socios</td>\n",
       "      <td>BLAA</td>\n",
       "      <td>Biblioteca Luis Ángel Arango</td>\n",
       "      <td>DC1</td>\n",
       "      <td>Depósito C1</td>\n",
       "      <td>0</td>\n",
       "      <td>1</td>\n",
       "      <td>29004006168206</td>\n",
       "      <td>991009934269707486</td>\n",
       "      <td>...</td>\n",
       "      <td>1997-12-30 00:00:00</td>\n",
       "      <td>Categoría Biblioteca Virtual</td>\n",
       "      <td>3900488</td>\n",
       "      <td>Co868.5 S45p1</td>\n",
       "      <td>2</td>\n",
       "      <td>868.5 S45p1</td>\n",
       "      <td>868</td>\n",
       "      <td>868.0</td>\n",
       "      <td>860</td>\n",
       "      <td>LIBRO</td>\n",
       "    </tr>\n",
       "    <tr>\n",
       "      <th>1</th>\n",
       "      <td>Biblioteca Luis Ángel Arango</td>\n",
       "      <td>Préstamo Externo Calle 12 - Solo socios</td>\n",
       "      <td>BLAA</td>\n",
       "      <td>Biblioteca Luis Ángel Arango</td>\n",
       "      <td>DD1</td>\n",
       "      <td>Depósito D1</td>\n",
       "      <td>0</td>\n",
       "      <td>1</td>\n",
       "      <td>29004005863906</td>\n",
       "      <td>991013769509707486</td>\n",
       "      <td>...</td>\n",
       "      <td>1997-02-24 00:00:00</td>\n",
       "      <td>Categoría Biblioteca Virtual</td>\n",
       "      <td>3900488</td>\n",
       "      <td>928.61 S45j1</td>\n",
       "      <td>0</td>\n",
       "      <td>928.61 S45j1</td>\n",
       "      <td>928</td>\n",
       "      <td>928.0</td>\n",
       "      <td>920</td>\n",
       "      <td>LIBRO</td>\n",
       "    </tr>\n",
       "    <tr>\n",
       "      <th>2</th>\n",
       "      <td>Biblioteca Luis Ángel Arango</td>\n",
       "      <td>Préstamo Externo Calle 12 - Solo socios</td>\n",
       "      <td>BLAA</td>\n",
       "      <td>Biblioteca Luis Ángel Arango</td>\n",
       "      <td>DD1</td>\n",
       "      <td>Depósito D1</td>\n",
       "      <td>0</td>\n",
       "      <td>1</td>\n",
       "      <td>29004007799355</td>\n",
       "      <td>991008897989707486</td>\n",
       "      <td>...</td>\n",
       "      <td>2000-05-22 00:00:00</td>\n",
       "      <td>Categoría Biblioteca Virtual</td>\n",
       "      <td>3900488</td>\n",
       "      <td>986.251 B82</td>\n",
       "      <td>0</td>\n",
       "      <td>986.251 B82</td>\n",
       "      <td>986</td>\n",
       "      <td>986.0</td>\n",
       "      <td>980</td>\n",
       "      <td>LIBRO</td>\n",
       "    </tr>\n",
       "    <tr>\n",
       "      <th>3</th>\n",
       "      <td>Biblioteca Luis Ángel Arango</td>\n",
       "      <td>Préstamo Externo Calle 12 - Solo socios</td>\n",
       "      <td>BLAA</td>\n",
       "      <td>Biblioteca Luis Ángel Arango</td>\n",
       "      <td>DD1</td>\n",
       "      <td>Depósito D1</td>\n",
       "      <td>0</td>\n",
       "      <td>1</td>\n",
       "      <td>29004017298190</td>\n",
       "      <td>991005656579707486</td>\n",
       "      <td>...</td>\n",
       "      <td>2005-03-22 00:00:00</td>\n",
       "      <td>Categoría Biblioteca Virtual</td>\n",
       "      <td>3900488</td>\n",
       "      <td>928.61 S45v2</td>\n",
       "      <td>0</td>\n",
       "      <td>928.61 S45v2</td>\n",
       "      <td>928</td>\n",
       "      <td>928.0</td>\n",
       "      <td>920</td>\n",
       "      <td>LIBRO</td>\n",
       "    </tr>\n",
       "    <tr>\n",
       "      <th>4</th>\n",
       "      <td>Biblioteca Luis Ángel Arango</td>\n",
       "      <td>Préstamo Externo Calle 12 - Solo socios</td>\n",
       "      <td>BLAA</td>\n",
       "      <td>Biblioteca Luis Ángel Arango</td>\n",
       "      <td>DD1</td>\n",
       "      <td>Depósito D1</td>\n",
       "      <td>0</td>\n",
       "      <td>1</td>\n",
       "      <td>29004022727563</td>\n",
       "      <td>991009904169707486</td>\n",
       "      <td>...</td>\n",
       "      <td>2010-12-15 00:00:00</td>\n",
       "      <td>Categoría Biblioteca Virtual</td>\n",
       "      <td>3900488</td>\n",
       "      <td>986.126 E75b</td>\n",
       "      <td>0</td>\n",
       "      <td>986.126 E75b</td>\n",
       "      <td>986</td>\n",
       "      <td>986.0</td>\n",
       "      <td>980</td>\n",
       "      <td>LIBRO</td>\n",
       "    </tr>\n",
       "  </tbody>\n",
       "</table>\n",
       "<p>5 rows × 30 columns</p>\n",
       "</div>"
      ],
      "text/plain": [
       "         Biblioteca de Prestamo                     Meson de Circulación  \\\n",
       "0  Biblioteca Luis Ángel Arango  Préstamo Externo Calle 12 - Solo socios   \n",
       "1  Biblioteca Luis Ángel Arango  Préstamo Externo Calle 12 - Solo socios   \n",
       "2  Biblioteca Luis Ángel Arango  Préstamo Externo Calle 12 - Solo socios   \n",
       "3  Biblioteca Luis Ángel Arango  Préstamo Externo Calle 12 - Solo socios   \n",
       "4  Biblioteca Luis Ángel Arango  Préstamo Externo Calle 12 - Solo socios   \n",
       "\n",
       "  Cod Biblioteca origen Item        Biblioteca origen Item  \\\n",
       "0                       BLAA  Biblioteca Luis Ángel Arango   \n",
       "1                       BLAA  Biblioteca Luis Ángel Arango   \n",
       "2                       BLAA  Biblioteca Luis Ángel Arango   \n",
       "3                       BLAA  Biblioteca Luis Ángel Arango   \n",
       "4                       BLAA  Biblioteca Luis Ángel Arango   \n",
       "\n",
       "  Cod de Localizacion Localización Item  Prestamos en Sala  Prestamos Externo  \\\n",
       "0                 DC1       Depósito C1                  0                  1   \n",
       "1                 DD1       Depósito D1                  0                  1   \n",
       "2                 DD1       Depósito D1                  0                  1   \n",
       "3                 DD1       Depósito D1                  0                  1   \n",
       "4                 DD1       Depósito D1                  0                  1   \n",
       "\n",
       "          Barcode              MMS Id  ... Fecha de ingreso del Item  \\\n",
       "0  29004006168206  991009934269707486  ...       1997-12-30 00:00:00   \n",
       "1  29004005863906  991013769509707486  ...       1997-02-24 00:00:00   \n",
       "2  29004007799355  991008897989707486  ...       2000-05-22 00:00:00   \n",
       "3  29004017298190  991005656579707486  ...       2005-03-22 00:00:00   \n",
       "4  29004022727563  991009904169707486  ...       2010-12-15 00:00:00   \n",
       "\n",
       "                Categoría Socio Identificador Socio          dewey Dewey_1  \\\n",
       "0  Categoría Biblioteca Virtual             3900488  Co868.5 S45p1       2   \n",
       "1  Categoría Biblioteca Virtual             3900488   928.61 S45j1       0   \n",
       "2  Categoría Biblioteca Virtual             3900488    986.251 B82       0   \n",
       "3  Categoría Biblioteca Virtual             3900488   928.61 S45v2       0   \n",
       "4  Categoría Biblioteca Virtual             3900488   986.126 E75b       0   \n",
       "\n",
       "         Dewey3 Dewey4.1 Dewey4.1 - Copia Dewey_2 TIPO MATERIAL  \n",
       "0   868.5 S45p1      868            868.0     860         LIBRO  \n",
       "1  928.61 S45j1      928            928.0     920         LIBRO  \n",
       "2   986.251 B82      986            986.0     980         LIBRO  \n",
       "3  928.61 S45v2      928            928.0     920         LIBRO  \n",
       "4  986.126 E75b      986            986.0     980         LIBRO  \n",
       "\n",
       "[5 rows x 30 columns]"
      ]
     },
     "execution_count": 4,
     "metadata": {},
     "output_type": "execute_result"
    }
   ],
   "source": [
    "libros.head()"
   ]
  },
  {
   "cell_type": "code",
   "execution_count": 5,
   "metadata": {
    "colab": {
     "base_uri": "https://localhost:8080/"
    },
    "id": "W7SyUO65mfk_",
    "outputId": "803a30de-c551-4bbe-ecd7-02049f3a7827"
   },
   "outputs": [
    {
     "data": {
      "text/plain": [
       "(807075, 30)"
      ]
     },
     "execution_count": 5,
     "metadata": {},
     "output_type": "execute_result"
    }
   ],
   "source": [
    "libros.shape"
   ]
  },
  {
   "cell_type": "markdown",
   "metadata": {},
   "source": [
    "### Libros leídos solo una vez"
   ]
  },
  {
   "cell_type": "code",
   "execution_count": 6,
   "metadata": {
    "id": "Su4Pbn_xmiTV"
   },
   "outputs": [],
   "source": [
    "prestamos = libros.groupby('Título')['Prestamos Externo'].sum().reset_index()"
   ]
  },
  {
   "cell_type": "code",
   "execution_count": 7,
   "metadata": {
    "colab": {
     "base_uri": "https://localhost:8080/"
    },
    "id": "nSc9K3_Ymi89",
    "outputId": "ce7b4d5f-f1e9-49c8-a704-bc99cc6ecc04"
   },
   "outputs": [
    {
     "name": "stdout",
     "output_type": "stream",
     "text": [
      "                                                   Título  Prestamos Externo\n",
      "1       00 anos de arte la historia de la creatividad ...                  1\n",
      "13                       1 2 3 ¡musica iniciacion musical                  1\n",
      "17      1 de mayo dia internacional de la clase obrera...                  1\n",
      "21      10 10 10 10 minutos 10 meses 10 anos una idea ...                  1\n",
      "23                                   10 anos de historias                  1\n",
      "...                                                   ...                ...\n",
      "141848  ¿venganza o perdon un camino hacia la reconcil...                  1\n",
      "141851  ¿vivimos en democracia analisis conceptual del...                  1\n",
      "141854  ¿y por que canciones para ninos y nenas y guri...                  1\n",
      "141862                                ¿y su mama que hace                  1\n",
      "141866                                     ¿ya soy normal                  1\n",
      "\n",
      "[50663 rows x 2 columns]\n"
     ]
    }
   ],
   "source": [
    "libros_unico = prestamos[prestamos['Prestamos Externo'] == 1]\n",
    "print(libros_unico)"
   ]
  },
  {
   "cell_type": "code",
   "execution_count": 8,
   "metadata": {
    "id": "n4Zj-DghmmF4"
   },
   "outputs": [],
   "source": [
    "# Eliminar libros únicos de los datos principales\n",
    "data_filtrada = libros[~libros['Título'].isin(libros_unico['Título'])]"
   ]
  },
  {
   "cell_type": "code",
   "execution_count": 9,
   "metadata": {
    "colab": {
     "base_uri": "https://localhost:8080/"
    },
    "id": "Gmt4AesXmmwc",
    "outputId": "e1cf1065-b19c-498c-f0fe-ca0fa9632a83"
   },
   "outputs": [
    {
     "data": {
      "text/plain": [
       "(713134, 30)"
      ]
     },
     "execution_count": 9,
     "metadata": {},
     "output_type": "execute_result"
    }
   ],
   "source": [
    "data_filtrada.shape"
   ]
  },
  {
   "cell_type": "markdown",
   "metadata": {},
   "source": [
    "### Usuarios que han leído más de 3 libros"
   ]
  },
  {
   "cell_type": "code",
   "execution_count": 10,
   "metadata": {
    "id": "mGGSjWammpub"
   },
   "outputs": [],
   "source": [
    "user_read_counts = data_filtrada.groupby('Identificador Socio')['Título'].count().reset_index()\n",
    "user_read_counts.columns = ['Identificador Socio', 'Libros Leídos']"
   ]
  },
  {
   "cell_type": "code",
   "execution_count": 11,
   "metadata": {
    "id": "IMywGzJ0mqcQ"
   },
   "outputs": [],
   "source": [
    "valid_users = user_read_counts[user_read_counts['Libros Leídos'] > 3]"
   ]
  },
  {
   "cell_type": "code",
   "execution_count": 12,
   "metadata": {
    "id": "Yj3F5_B1mzwn"
   },
   "outputs": [
    {
     "name": "stdout",
     "output_type": "stream",
     "text": [
      "              Biblioteca de Prestamo                     Meson de Circulación  \\\n",
      "0       Biblioteca Luis Ángel Arango  Préstamo Externo Calle 12 - Solo socios   \n",
      "1       Biblioteca Luis Ángel Arango  Préstamo Externo Calle 12 - Solo socios   \n",
      "2       Biblioteca Luis Ángel Arango  Préstamo Externo Calle 12 - Solo socios   \n",
      "3       Biblioteca Luis Ángel Arango  Préstamo Externo Calle 12 - Solo socios   \n",
      "6       Biblioteca Luis Ángel Arango  Préstamo Externo Calle 12 - Solo socios   \n",
      "...                              ...                                      ...   \n",
      "400855                    Casa Gomez                Sala Casa Gómez Campuzano   \n",
      "618661         Biblioteca de Leticia                     Sala general Leticia   \n",
      "619582         Biblioteca de Leticia                     Sala general Leticia   \n",
      "619592         Biblioteca de Leticia                     Sala general Leticia   \n",
      "619598         Biblioteca de Leticia                     Sala general Leticia   \n",
      "\n",
      "       Cod Biblioteca origen Item        Biblioteca origen Item  \\\n",
      "0                            BLAA  Biblioteca Luis Ángel Arango   \n",
      "1                            BLAA  Biblioteca Luis Ángel Arango   \n",
      "2                            BLAA  Biblioteca Luis Ángel Arango   \n",
      "3                            BLAA  Biblioteca Luis Ángel Arango   \n",
      "6                            BLAA  Biblioteca Luis Ángel Arango   \n",
      "...                           ...                           ...   \n",
      "400855                     CASAGO                    Casa Gomez   \n",
      "618661                        LET         Biblioteca de Leticia   \n",
      "619582                        LET         Biblioteca de Leticia   \n",
      "619592                        LET         Biblioteca de Leticia   \n",
      "619598                        LET         Biblioteca de Leticia   \n",
      "\n",
      "       Cod de Localizacion Localización Item  Prestamos en Sala  \\\n",
      "0                      DC1       Depósito C1                  0   \n",
      "1                      DD1       Depósito D1                  0   \n",
      "2                      DD1       Depósito D1                  0   \n",
      "3                      DD1       Depósito D1                  0   \n",
      "6                      DD2       Depósito D2                  0   \n",
      "...                    ...               ...                ...   \n",
      "400855                 PRU     Palacio Rudas                  1   \n",
      "618661                 GEN      Sala General                  0   \n",
      "619582                 GEN      Sala General                  0   \n",
      "619592                 GEN      Sala General                  0   \n",
      "619598                 GEN      Sala General                  0   \n",
      "\n",
      "        Prestamos Externo         Barcode              MMS Id  ...  \\\n",
      "0                       1  29004006168206  991009934269707486  ...   \n",
      "1                       1  29004005863906  991013769509707486  ...   \n",
      "2                       1  29004007799355  991008897989707486  ...   \n",
      "3                       1  29004017298190  991005656579707486  ...   \n",
      "6                       1  29004018222124  991003250799707486  ...   \n",
      "...                   ...             ...                 ...  ...   \n",
      "400855                  0  29004011452165  991012830669707486  ...   \n",
      "618661                  1  29004026353531  991015853069707486  ...   \n",
      "619582                  1  29004029801114  991008655949707486  ...   \n",
      "619592                  1  29004029931648  991008841179707486  ...   \n",
      "619598                  1  29004029966487  991009153509707486  ...   \n",
      "\n",
      "       Fecha de ingreso del Item               Categoría Socio  \\\n",
      "0            1997-12-30 00:00:00  Categoría Biblioteca Virtual   \n",
      "1            1997-02-24 00:00:00  Categoría Biblioteca Virtual   \n",
      "2            2000-05-22 00:00:00  Categoría Biblioteca Virtual   \n",
      "3            2005-03-22 00:00:00  Categoría Biblioteca Virtual   \n",
      "6            2007-01-18 00:00:00  Categoría Biblioteca Virtual   \n",
      "...                          ...                           ...   \n",
      "400855       1997-02-07 00:00:00                     VISITANTE   \n",
      "618661       2015-10-23 00:00:00                           NaN   \n",
      "619582       2022-04-27 00:00:00                           NaN   \n",
      "619592       2022-09-08 00:00:00                           NaN   \n",
      "619598       2022-09-13 00:00:00                           NaN   \n",
      "\n",
      "       Identificador Socio          dewey Dewey_1         Dewey3 Dewey4.1  \\\n",
      "0                  3900488  Co868.5 S45p1       2    868.5 S45p1      868   \n",
      "1                  3900488   928.61 S45j1       0   928.61 S45j1      928   \n",
      "2                  3900488    986.251 B82       0    986.251 B82      986   \n",
      "3                  3900488   928.61 S45v2       0   928.61 S45v2      928   \n",
      "6                  3900488   986.125 E75s       0   986.125 E75s      986   \n",
      "...                    ...            ...     ...            ...      ...   \n",
      "400855  VisitanteCasaGomez  759.9861 G65r       0  759.9861 G65r      759   \n",
      "618661      39004886628723     869.3 C78l       0     869.3 C78l      869   \n",
      "619582      39004886628723   Pe863.7 V34d       2     863.7 V34d      863   \n",
      "619592      39004886628723     813.6 L12y       0     813.6 L12y      813   \n",
      "619598      39004886628723     819.3 V47m       0     819.3 V47m      819   \n",
      "\n",
      "       Dewey4.1 - Copia Dewey_2 TIPO MATERIAL  \n",
      "0                 868.0     860         LIBRO  \n",
      "1                 928.0     920         LIBRO  \n",
      "2                 986.0     980         LIBRO  \n",
      "3                 928.0     920         LIBRO  \n",
      "6                 986.0     980         LIBRO  \n",
      "...                 ...     ...           ...  \n",
      "400855            759.0     750         LIBRO  \n",
      "618661            869.0     860         LIBRO  \n",
      "619582            863.0     860         LIBRO  \n",
      "619592            813.0     810         LIBRO  \n",
      "619598            819.0     810         LIBRO  \n",
      "\n",
      "[317990 rows x 30 columns]\n"
     ]
    }
   ],
   "source": [
    "data_filtrada = data_filtrada[data_filtrada['Identificador Socio'].isin(valid_users['Identificador Socio'])]\n",
    "print(data_filtrada)"
   ]
  },
  {
   "cell_type": "code",
   "execution_count": 13,
   "metadata": {
    "colab": {
     "base_uri": "https://localhost:8080/"
    },
    "id": "E9-akaVPm1b0",
    "outputId": "4edce4e6-d64a-4f4e-9f64-6063265fcc51"
   },
   "outputs": [
    {
     "data": {
      "text/plain": [
       "(317990, 30)"
      ]
     },
     "execution_count": 13,
     "metadata": {},
     "output_type": "execute_result"
    }
   ],
   "source": [
    "data_filtrada.shape"
   ]
  },
  {
   "cell_type": "code",
   "execution_count": 14,
   "metadata": {
    "id": "X7wUehJim3hc"
   },
   "outputs": [],
   "source": [
    "data_final = data_filtrada.drop_duplicates(subset=['Identificador Socio', 'Título'])"
   ]
  },
  {
   "cell_type": "code",
   "execution_count": 15,
   "metadata": {
    "colab": {
     "base_uri": "https://localhost:8080/"
    },
    "id": "zIPG8oAZm6rM",
    "outputId": "abf08a3d-4b7b-43da-c79f-033dd60ff5e0"
   },
   "outputs": [
    {
     "data": {
      "text/plain": [
       "(255691, 30)"
      ]
     },
     "execution_count": 15,
     "metadata": {},
     "output_type": "execute_result"
    }
   ],
   "source": [
    "data_final.shape"
   ]
  },
  {
   "cell_type": "markdown",
   "metadata": {},
   "source": [
    "### Codificación de usuarios y libros"
   ]
  },
  {
   "cell_type": "code",
   "execution_count": 16,
   "metadata": {
    "colab": {
     "base_uri": "https://localhost:8080/"
    },
    "id": "a1t6E7ZRm8CU",
    "outputId": "9242ad0b-6bc1-4381-ecc8-59fb359edf07"
   },
   "outputs": [
    {
     "name": "stderr",
     "output_type": "stream",
     "text": [
      "C:\\Users\\danie\\AppData\\Local\\Temp\\ipykernel_2844\\1351856405.py:8: SettingWithCopyWarning: \n",
      "A value is trying to be set on a copy of a slice from a DataFrame.\n",
      "Try using .loc[row_indexer,col_indexer] = value instead\n",
      "\n",
      "See the caveats in the documentation: https://pandas.pydata.org/pandas-docs/stable/user_guide/indexing.html#returning-a-view-versus-a-copy\n",
      "  data_final['User_ID'] = user_encoder.fit_transform(data_final['Identificador Socio'])\n",
      "C:\\Users\\danie\\AppData\\Local\\Temp\\ipykernel_2844\\1351856405.py:9: SettingWithCopyWarning: \n",
      "A value is trying to be set on a copy of a slice from a DataFrame.\n",
      "Try using .loc[row_indexer,col_indexer] = value instead\n",
      "\n",
      "See the caveats in the documentation: https://pandas.pydata.org/pandas-docs/stable/user_guide/indexing.html#returning-a-view-versus-a-copy\n",
      "  data_final['Book_ID'] = book_encoder.fit_transform(data_final['Título'])\n"
     ]
    }
   ],
   "source": [
    "from sklearn.preprocessing import LabelEncoder\n",
    "\n",
    "# Crear instancias de LabelEncoder\n",
    "user_encoder = LabelEncoder()\n",
    "book_encoder = LabelEncoder()\n",
    "\n",
    "# Codificar usuarios y libros\n",
    "data_final['User_ID'] = user_encoder.fit_transform(data_final['Identificador Socio'])\n",
    "data_final['Book_ID'] = book_encoder.fit_transform(data_final['Título'])"
   ]
  },
  {
   "cell_type": "code",
   "execution_count": 17,
   "metadata": {
    "colab": {
     "base_uri": "https://localhost:8080/"
    },
    "id": "DuMoT3KLm9_Z",
    "outputId": "cb745da2-be23-4a96-f2d7-38b74e3bfb71"
   },
   "outputs": [
    {
     "name": "stdout",
     "output_type": "stream",
     "text": [
      "  Identificador Socio  User_ID                                       Título  \\\n",
      "0             3900488    13402  poesia y prosa con 44 textos sobre el autor   \n",
      "1             3900488    13402     jose asuncion silva el corazon del poeta   \n",
      "2             3900488    13402                bucaramanga pasado y presente   \n",
      "3             3900488    13402                almas en pena chapolas negras   \n",
      "6             3900488    13402         santander en mis mejores fotografias   \n",
      "\n",
      "   Book_ID  \n",
      "0    43015  \n",
      "1    29958  \n",
      "2     6624  \n",
      "3     1833  \n",
      "6    47801  \n",
      "Total de usuarios únicos: 20171\n",
      "Total de libros únicos: 56457\n"
     ]
    }
   ],
   "source": [
    "print(data_final[['Identificador Socio', 'User_ID', 'Título', 'Book_ID']].head())\n",
    "\n",
    "# Verificar el número de usuarios y libros codificados\n",
    "print(f\"Total de usuarios únicos: {len(user_encoder.classes_)}\")\n",
    "print(f\"Total de libros únicos: {len(book_encoder.classes_)}\")"
   ]
  },
  {
   "cell_type": "markdown",
   "metadata": {},
   "source": [
    "### Motor de recomendación"
   ]
  },
  {
   "cell_type": "code",
   "execution_count": 19,
   "metadata": {
    "colab": {
     "base_uri": "https://localhost:8080/"
    },
    "id": "WJk6MmAtnBhh",
    "outputId": "7a3bbf36-6672-4a0b-fc26-092cb5742c0f"
   },
   "outputs": [
    {
     "name": "stderr",
     "output_type": "stream",
     "text": [
      "C:\\Users\\danie\\AppData\\Local\\Temp\\ipykernel_2844\\2591941273.py:1: SettingWithCopyWarning: \n",
      "A value is trying to be set on a copy of a slice from a DataFrame.\n",
      "Try using .loc[row_indexer,col_indexer] = value instead\n",
      "\n",
      "See the caveats in the documentation: https://pandas.pydata.org/pandas-docs/stable/user_guide/indexing.html#returning-a-view-versus-a-copy\n",
      "  data_final['rank_latest'] = data_final.groupby(['Identificador Socio'])['Fecha de préstamo'].rank(method='first', ascending=False)\n"
     ]
    }
   ],
   "source": [
    "data_final['rank_latest'] = data_final.groupby(['Identificador Socio'])['Fecha de préstamo'].rank(method='first', ascending=False)\n",
    "\n",
    "train_ratings = data_final[data_final['rank_latest'] != 1]\n",
    "test_ratings = data_final[data_final['rank_latest'] == 1]\n",
    "\n",
    "# drop columns that we no longer need\n",
    "train_ratings = train_ratings[['User_ID', 'Book_ID', 'Fecha de préstamo']]\n",
    "test_ratings = test_ratings[['User_ID', 'Book_ID', 'Fecha de préstamo']]"
   ]
  },
  {
   "cell_type": "code",
   "execution_count": 20,
   "metadata": {
    "id": "QXb7EET_nFgY"
   },
   "outputs": [],
   "source": [
    "train_ratings.loc[:, 'interaction'] = 1"
   ]
  },
  {
   "cell_type": "code",
   "execution_count": 21,
   "metadata": {
    "colab": {
     "base_uri": "https://localhost:8080/"
    },
    "id": "vuW23u1HnJt2",
    "outputId": "2f38846c-68b1-4c10-9544-9a479b9b4a9f"
   },
   "outputs": [
    {
     "data": {
      "text/plain": [
       "array([1], dtype=int64)"
      ]
     },
     "execution_count": 21,
     "metadata": {},
     "output_type": "execute_result"
    }
   ],
   "source": [
    "train_ratings[\"interaction\"].unique()"
   ]
  },
  {
   "cell_type": "code",
   "execution_count": 22,
   "metadata": {
    "id": "tcla738AnLcs"
   },
   "outputs": [],
   "source": [
    "# Lista de todos los libros\n",
    "all_bookIds = train_ratings['Book_ID'].unique()\n",
    "\n",
    "# Contenedores para datos de entrenamiento\n",
    "users, books, labels = [], [], []\n",
    "\n",
    "# Conjunto de interacciones positivas (usuario, libro)\n",
    "user_item_set = set(zip(train_ratings['User_ID'], train_ratings['Book_ID']))\n",
    "\n",
    "# Relación negativa:positiva de 4:1\n",
    "num_negatives = 4\n",
    "\n",
    "# Generar muestras positivas y negativas\n",
    "for (u, b) in user_item_set:\n",
    "    # Agregar la interacción positiva\n",
    "    users.append(u)\n",
    "    books.append(b)\n",
    "    labels.append(1)  # Positivo: usuario interactuó con el libro\n",
    "\n",
    "    # Agregar muestras negativas\n",
    "    for _ in range(num_negatives):\n",
    "        # Seleccionar un libro aleatorio\n",
    "        negative_book = np.random.choice(all_bookIds)\n",
    "        # Verificar que el libro no haya sido leído por el usuario\n",
    "        while (u, negative_book) in user_item_set:\n",
    "            negative_book = np.random.choice(all_bookIds)\n",
    "        users.append(u)\n",
    "        books.append(negative_book)\n",
    "        labels.append(0)"
   ]
  },
  {
   "cell_type": "code",
   "execution_count": 23,
   "metadata": {
    "colab": {
     "base_uri": "https://localhost:8080/"
    },
    "id": "BO-10NVynNDs",
    "outputId": "84708c4a-6a94-4be7-b2e6-436c0e4d5c4f"
   },
   "outputs": [
    {
     "data": {
      "text/plain": [
       "235520"
      ]
     },
     "execution_count": 23,
     "metadata": {},
     "output_type": "execute_result"
    }
   ],
   "source": [
    "np.sum(labels)"
   ]
  },
  {
   "cell_type": "code",
   "execution_count": 24,
   "metadata": {
    "id": "qf6-I-97nOv2"
   },
   "outputs": [],
   "source": [
    "import torch\n",
    "from torch.utils.data import Dataset\n",
    "\n",
    "\n",
    "class BooksTrainDataset(Dataset):\n",
    "    \"\"\"Dataset de libros en formato PyTorch para entrenamiento.\n",
    "\n",
    "    Args:\n",
    "        ratings (pd.DataFrame): DataFrame que contiene las interacciones de usuarios con libros.\n",
    "        all_bookIds (list): Lista con todos los IDs únicos de libros.\n",
    "\n",
    "    \"\"\"\n",
    "\n",
    "    def __init__(self, data_final):\n",
    "        self.users, self.items, self.labels = self.get_dataset(data_final)\n",
    "\n",
    "    def __len__(self):\n",
    "        return len(self.users)\n",
    "\n",
    "    def __getitem__(self, idx):\n",
    "        return self.users[idx], self.items[idx], self.labels[idx]\n",
    "\n",
    "    def get_dataset(self, data_final):\n",
    "        users, items, labels = [], [], []\n",
    "        user_item_set = set(zip(data_final['User_ID'], data_final['Book_ID']))\n",
    "        all_book_ids = data_final['Book_ID'].unique()\n",
    "\n",
    "        num_negatives = 4  # Relación 4:1 de negativos a positivos\n",
    "        for u, b in user_item_set:\n",
    "            # Agregar interacciones positivas\n",
    "            users.append(u)\n",
    "            items.append(b)\n",
    "            labels.append(1)\n",
    "\n",
    "            # Agregar muestras negativas\n",
    "            for _ in range(num_negatives):\n",
    "                negative_book = np.random.choice(all_book_ids)\n",
    "                while (u, negative_book) in user_item_set:\n",
    "                    negative_book = np.random.choice(all_book_ids)\n",
    "                users.append(u)\n",
    "                items.append(negative_book)\n",
    "                labels.append(0)\n",
    "\n",
    "        # Convertir a tensores de PyTorch\n",
    "        return (\n",
    "            torch.tensor(users, dtype=torch.long),\n",
    "            torch.tensor(items, dtype=torch.long),\n",
    "            torch.tensor(labels, dtype=torch.float),\n",
    "        )"
   ]
  },
  {
   "cell_type": "code",
   "execution_count": null,
   "metadata": {
    "id": "nDTssxZMnQM1"
   },
   "outputs": [],
   "source": [
    "class NCF(pl.LightningModule):\n",
    "    \"\"\" Neural Collaborative Filtering (NCF)\n",
    "\n",
    "        Args:\n",
    "            num_users (int): Number of unique users\n",
    "            num_items (int): Number of unique items or books\n",
    "            ratings (pd.DataFrame): Dataframe containing the book ratings for training\n",
    "            all_bookIds (list): List containing all book IDs (train + test)\n",
    "    \"\"\"\n",
    "\n",
    "    def __init__(self, num_users, num_items, ratings, all_bookIds):\n",
    "        super(NCF, self).__init__()\n",
    "        self.user_embedding = nn.Embedding(num_embeddings=num_users, embedding_dim=32)\n",
    "        self.item_embedding = nn.Embedding(num_embeddings=num_items, embedding_dim=32)\n",
    "\n",
    "        nn.init.xavier_uniform_(self.user_embedding.weight)\n",
    "        nn.init.xavier_uniform_(self.item_embedding.weight)\n",
    "\n",
    "        self.fc1 = nn.Linear(in_features=64, out_features=32)  # Incrementa a 128\n",
    "        self.fc2 = nn.Linear(in_features=32, out_features=16)  # Incrementa la siguiente capa\n",
    "        self.fc3 = nn.Linear(in_features=16, out_features=8)\n",
    "\n",
    "        self.dropout1 = nn.Dropout(p=0.2)\n",
    "        self.dropout2 = nn.Dropout(p=0.3)\n",
    "\n",
    "        self.output = nn.Linear(in_features=8, out_features=1)\n",
    "\n",
    "        self.ratings = ratings\n",
    "        self.all_bookIds = all_bookIds\n",
    "\n",
    "    def forward(self, user_input, item_input):\n",
    "        # Pass through embedding layers\n",
    "        user_embedded = self.user_embedding(user_input)\n",
    "        item_embedded = self.item_embedding(item_input)\n",
    "\n",
    "        # Concatenate the two embedding layers\n",
    "        vector = torch.cat([user_embedded, item_embedded], dim=-1)\n",
    "\n",
    "        # Pass through dense layers\n",
    "        vector = nn.LeakyReLU()(self.fc1(vector))\n",
    "        vector = self.dropout1(vector)\n",
    "        vector = nn.LeakyReLU()(self.fc2(vector))\n",
    "        vector = self.dropout2(vector)\n",
    "        vector = nn.LeakyReLU()(self.fc3(vector))\n",
    "\n",
    "        # Output layer\n",
    "        pred = nn.Sigmoid()(self.output(vector))\n",
    "\n",
    "        return pred\n",
    "\n",
    "    def training_step(self, batch, batch_idx):\n",
    "        user_input, item_input, labels = batch\n",
    "        predicted_labels = self(user_input, item_input)\n",
    "        loss = nn.BCELoss()(predicted_labels, labels.view(-1, 1).float())\n",
    "        self.log('train_loss', loss, prog_bar=True, logger=True)\n",
    "        return loss\n",
    "\n",
    "    def configure_optimizers(self):\n",
    "        return torch.optim.Adam(self.parameters(), lr=0.1)"
   ]
  },
  {
   "cell_type": "code",
   "execution_count": 28,
   "metadata": {
    "id": "f5JiF8qi4jah"
   },
   "outputs": [],
   "source": [
    "from torch.utils.data import DataLoader\n",
    "\n",
    "# Crear dataset\n",
    "train_dataset = BooksTrainDataset(data_final)\n",
    "\n",
    "# DataLoader\n",
    "train_loader = DataLoader(train_dataset, batch_size=64, shuffle=True)"
   ]
  },
  {
   "cell_type": "code",
   "execution_count": null,
   "metadata": {
    "colab": {
     "base_uri": "https://localhost:8080/"
    },
    "id": "H8eWdR9inSeD",
    "outputId": "cb186e0e-4fba-4dc0-d221-b103cf43e579"
   },
   "outputs": [
    {
     "name": "stdout",
     "output_type": "stream",
     "text": [
      "20171\n",
      "56457\n"
     ]
    }
   ],
   "source": [
    "num_users = data_final['User_ID'].max() + 1\n",
    "num_items = data_final['Book_ID'].max() + 1\n",
    "print(num_users)\n",
    "print(num_items)"
   ]
  },
  {
   "cell_type": "code",
   "execution_count": null,
   "metadata": {
    "colab": {
     "background_save": true,
     "base_uri": "https://localhost:8080/",
     "height": 413,
     "referenced_widgets": [
      "f16bfcd8121a4651959d281cfcbb2429",
      "f65d3149d4de4ac2ac8465d406db7872",
      "b8b316cb316e471a83c10c1159340c0f",
      "376d700fb81b4c9fbdb92b077a7fc954",
      "6b8258fa9fce433bb68779ada9a24c33",
      "dccb2c47844a46099ed37b54840144dd",
      "ae97e01b927d4c39be7f70a54ee71ab5",
      "5b5e658589154a2ba5d1c82de4dab000",
      "ee81b7d623e64a30a047e07b156e28e7",
      "3ba69af1914f4249b08498323cc2ab77",
      "645f913b7dde4951a15d06cbda30fadc"
     ]
    },
    "id": "lVw4PziQnbW4",
    "outputId": "1f8ebdc6-a648-4c8e-e0e6-f7fdb4607581"
   },
   "outputs": [
    {
     "name": "stderr",
     "output_type": "stream",
     "text": [
      "c:\\Users\\danie\\anaconda3\\envs\\my_env\\lib\\site-packages\\pytorch_lightning\\trainer\\connectors\\accelerator_connector.py:446: LightningDeprecationWarning: Setting `Trainer(gpus=1)` is deprecated in v1.7 and will be removed in v2.0. Please use `Trainer(accelerator='gpu', devices=1)` instead.\n",
      "  rank_zero_deprecation(\n",
      "GPU available: True (cuda), used: True\n",
      "TPU available: False, using: 0 TPU cores\n",
      "IPU available: False, using: 0 IPUs\n",
      "HPU available: False, using: 0 HPUs\n"
     ]
    },
    {
     "name": "stdout",
     "output_type": "stream",
     "text": [
      "CPU times: total: 15.6 ms\n",
      "Wall time: 1.61 s\n"
     ]
    }
   ],
   "source": [
    "%%time\n",
    "model = NCF(num_users, num_items, train_loader, data_final['Book_ID'].unique())\n",
    "\n",
    "trainer = pl.Trainer(max_epochs=7, gpus=1, reload_dataloaders_every_n_epochs=1,\n",
    "                     enable_progress_bar=True)"
   ]
  },
  {
   "cell_type": "code",
   "execution_count": 31,
   "metadata": {},
   "outputs": [
    {
     "name": "stderr",
     "output_type": "stream",
     "text": [
      "Missing logger folder: c:\\Users\\danie\\Documents\\PARCIALFINAL_PY\\lightning_logs\n",
      "LOCAL_RANK: 0 - CUDA_VISIBLE_DEVICES: [0]\n",
      "\n",
      "  | Name           | Type      | Params\n",
      "---------------------------------------------\n",
      "0 | user_embedding | Embedding | 645 K \n",
      "1 | item_embedding | Embedding | 1.8 M \n",
      "2 | fc1            | Linear    | 2.1 K \n",
      "3 | fc2            | Linear    | 528   \n",
      "4 | fc3            | Linear    | 136   \n",
      "5 | dropout1       | Dropout   | 0     \n",
      "6 | dropout2       | Dropout   | 0     \n",
      "7 | output         | Linear    | 9     \n",
      "---------------------------------------------\n",
      "2.5 M     Trainable params\n",
      "0         Non-trainable params\n",
      "2.5 M     Total params\n",
      "9.819     Total estimated model params size (MB)\n",
      "c:\\Users\\danie\\anaconda3\\envs\\my_env\\lib\\site-packages\\pytorch_lightning\\trainer\\connectors\\data_connector.py:224: PossibleUserWarning: The dataloader, train_dataloader, does not have many workers which may be a bottleneck. Consider increasing the value of the `num_workers` argument` (try 16 which is the number of cpus on this machine) in the `DataLoader` init to improve performance.\n",
      "  rank_zero_warn(\n"
     ]
    },
    {
     "data": {
      "application/vnd.jupyter.widget-view+json": {
       "model_id": "ec66dde0eb764acb8127b652d62b9a99",
       "version_major": 2,
       "version_minor": 0
      },
      "text/plain": [
       "Training: 0it [00:00, ?it/s]"
      ]
     },
     "metadata": {},
     "output_type": "display_data"
    },
    {
     "name": "stderr",
     "output_type": "stream",
     "text": [
      "`Trainer.fit` stopped: `max_epochs=7` reached.\n"
     ]
    }
   ],
   "source": [
    "trainer.fit(model, train_loader)"
   ]
  },
  {
   "cell_type": "code",
   "execution_count": 32,
   "metadata": {
    "id": "iP9RPfJwnc9v"
   },
   "outputs": [],
   "source": [
    "# User-item pairs for testing\n",
    "test_user_item_set = set(zip(test_ratings['User_ID'], test_ratings['Book_ID']))\n",
    "\n",
    "# Dict of all items that are interacted with by each user\n",
    "user_interacted_items = data_final.groupby('User_ID')['Book_ID'].apply(list).to_dict()"
   ]
  },
  {
   "cell_type": "code",
   "execution_count": 33,
   "metadata": {
    "colab": {
     "base_uri": "https://localhost:8080/"
    },
    "id": "71sd64YynefB",
    "outputId": "dfd09619-6ca1-4674-b7ba-6fd2108ccbab"
   },
   "outputs": [
    {
     "name": "stdout",
     "output_type": "stream",
     "text": [
      "The Hit Ratio @ 20 is 1.00\n"
     ]
    }
   ],
   "source": [
    "hits = []\n",
    "for (u,i) in test_user_item_set:\n",
    "    interacted_items = user_interacted_items[u]\n",
    "    not_interacted_items = set(all_bookIds) - set(interacted_items)\n",
    "    selected_not_interacted = list(np.random.choice(list(not_interacted_items), 99))\n",
    "    test_items = selected_not_interacted + [i]\n",
    "\n",
    "    predicted_labels = np.squeeze(model(torch.tensor([u]*100),\n",
    "                                        torch.tensor(test_items)).detach().numpy())\n",
    "\n",
    "    top10_items = [test_items[i] for i in np.argsort(predicted_labels)[::-1][0:20].tolist()]\n",
    "\n",
    "    if i in top10_items:\n",
    "        hits.append(1)\n",
    "    else:\n",
    "        hits.append(0)\n",
    "\n",
    "print(\"The Hit Ratio @ 20 is {:.2f}\".format(np.average(hits)))"
   ]
  }
 ],
 "metadata": {
  "accelerator": "GPU",
  "colab": {
   "gpuType": "T4",
   "provenance": []
  },
  "kernelspec": {
   "display_name": "my_env",
   "language": "python",
   "name": "python3"
  },
  "language_info": {
   "codemirror_mode": {
    "name": "ipython",
    "version": 3
   },
   "file_extension": ".py",
   "mimetype": "text/x-python",
   "name": "python",
   "nbconvert_exporter": "python",
   "pygments_lexer": "ipython3",
   "version": "3.10.11"
  },
  "widgets": {
   "application/vnd.jupyter.widget-state+json": {
    "376d700fb81b4c9fbdb92b077a7fc954": {
     "model_module": "@jupyter-widgets/controls",
     "model_module_version": "1.5.0",
     "model_name": "HTMLModel",
     "state": {
      "_dom_classes": [],
      "_model_module": "@jupyter-widgets/controls",
      "_model_module_version": "1.5.0",
      "_model_name": "HTMLModel",
      "_view_count": null,
      "_view_module": "@jupyter-widgets/controls",
      "_view_module_version": "1.5.0",
      "_view_name": "HTMLView",
      "description": "",
      "description_tooltip": null,
      "layout": "IPY_MODEL_3ba69af1914f4249b08498323cc2ab77",
      "placeholder": "​",
      "style": "IPY_MODEL_645f913b7dde4951a15d06cbda30fadc",
      "value": " 4680/21356 [00:27&lt;01:36, 172.20it/s, loss=0.448, v_num=5, train_loss=0.382]"
     }
    },
    "3ba69af1914f4249b08498323cc2ab77": {
     "model_module": "@jupyter-widgets/base",
     "model_module_version": "1.2.0",
     "model_name": "LayoutModel",
     "state": {
      "_model_module": "@jupyter-widgets/base",
      "_model_module_version": "1.2.0",
      "_model_name": "LayoutModel",
      "_view_count": null,
      "_view_module": "@jupyter-widgets/base",
      "_view_module_version": "1.2.0",
      "_view_name": "LayoutView",
      "align_content": null,
      "align_items": null,
      "align_self": null,
      "border": null,
      "bottom": null,
      "display": null,
      "flex": null,
      "flex_flow": null,
      "grid_area": null,
      "grid_auto_columns": null,
      "grid_auto_flow": null,
      "grid_auto_rows": null,
      "grid_column": null,
      "grid_gap": null,
      "grid_row": null,
      "grid_template_areas": null,
      "grid_template_columns": null,
      "grid_template_rows": null,
      "height": null,
      "justify_content": null,
      "justify_items": null,
      "left": null,
      "margin": null,
      "max_height": null,
      "max_width": null,
      "min_height": null,
      "min_width": null,
      "object_fit": null,
      "object_position": null,
      "order": null,
      "overflow": null,
      "overflow_x": null,
      "overflow_y": null,
      "padding": null,
      "right": null,
      "top": null,
      "visibility": null,
      "width": null
     }
    },
    "5b5e658589154a2ba5d1c82de4dab000": {
     "model_module": "@jupyter-widgets/base",
     "model_module_version": "1.2.0",
     "model_name": "LayoutModel",
     "state": {
      "_model_module": "@jupyter-widgets/base",
      "_model_module_version": "1.2.0",
      "_model_name": "LayoutModel",
      "_view_count": null,
      "_view_module": "@jupyter-widgets/base",
      "_view_module_version": "1.2.0",
      "_view_name": "LayoutView",
      "align_content": null,
      "align_items": null,
      "align_self": null,
      "border": null,
      "bottom": null,
      "display": null,
      "flex": "2",
      "flex_flow": null,
      "grid_area": null,
      "grid_auto_columns": null,
      "grid_auto_flow": null,
      "grid_auto_rows": null,
      "grid_column": null,
      "grid_gap": null,
      "grid_row": null,
      "grid_template_areas": null,
      "grid_template_columns": null,
      "grid_template_rows": null,
      "height": null,
      "justify_content": null,
      "justify_items": null,
      "left": null,
      "margin": null,
      "max_height": null,
      "max_width": null,
      "min_height": null,
      "min_width": null,
      "object_fit": null,
      "object_position": null,
      "order": null,
      "overflow": null,
      "overflow_x": null,
      "overflow_y": null,
      "padding": null,
      "right": null,
      "top": null,
      "visibility": null,
      "width": null
     }
    },
    "645f913b7dde4951a15d06cbda30fadc": {
     "model_module": "@jupyter-widgets/controls",
     "model_module_version": "1.5.0",
     "model_name": "DescriptionStyleModel",
     "state": {
      "_model_module": "@jupyter-widgets/controls",
      "_model_module_version": "1.5.0",
      "_model_name": "DescriptionStyleModel",
      "_view_count": null,
      "_view_module": "@jupyter-widgets/base",
      "_view_module_version": "1.2.0",
      "_view_name": "StyleView",
      "description_width": ""
     }
    },
    "6b8258fa9fce433bb68779ada9a24c33": {
     "model_module": "@jupyter-widgets/base",
     "model_module_version": "1.2.0",
     "model_name": "LayoutModel",
     "state": {
      "_model_module": "@jupyter-widgets/base",
      "_model_module_version": "1.2.0",
      "_model_name": "LayoutModel",
      "_view_count": null,
      "_view_module": "@jupyter-widgets/base",
      "_view_module_version": "1.2.0",
      "_view_name": "LayoutView",
      "align_content": null,
      "align_items": null,
      "align_self": null,
      "border": null,
      "bottom": null,
      "display": "inline-flex",
      "flex": null,
      "flex_flow": "row wrap",
      "grid_area": null,
      "grid_auto_columns": null,
      "grid_auto_flow": null,
      "grid_auto_rows": null,
      "grid_column": null,
      "grid_gap": null,
      "grid_row": null,
      "grid_template_areas": null,
      "grid_template_columns": null,
      "grid_template_rows": null,
      "height": null,
      "justify_content": null,
      "justify_items": null,
      "left": null,
      "margin": null,
      "max_height": null,
      "max_width": null,
      "min_height": null,
      "min_width": null,
      "object_fit": null,
      "object_position": null,
      "order": null,
      "overflow": null,
      "overflow_x": null,
      "overflow_y": null,
      "padding": null,
      "right": null,
      "top": null,
      "visibility": null,
      "width": "100%"
     }
    },
    "ae97e01b927d4c39be7f70a54ee71ab5": {
     "model_module": "@jupyter-widgets/controls",
     "model_module_version": "1.5.0",
     "model_name": "DescriptionStyleModel",
     "state": {
      "_model_module": "@jupyter-widgets/controls",
      "_model_module_version": "1.5.0",
      "_model_name": "DescriptionStyleModel",
      "_view_count": null,
      "_view_module": "@jupyter-widgets/base",
      "_view_module_version": "1.2.0",
      "_view_name": "StyleView",
      "description_width": ""
     }
    },
    "b8b316cb316e471a83c10c1159340c0f": {
     "model_module": "@jupyter-widgets/controls",
     "model_module_version": "1.5.0",
     "model_name": "FloatProgressModel",
     "state": {
      "_dom_classes": [],
      "_model_module": "@jupyter-widgets/controls",
      "_model_module_version": "1.5.0",
      "_model_name": "FloatProgressModel",
      "_view_count": null,
      "_view_module": "@jupyter-widgets/controls",
      "_view_module_version": "1.5.0",
      "_view_name": "ProgressView",
      "bar_style": "",
      "description": "",
      "description_tooltip": null,
      "layout": "IPY_MODEL_5b5e658589154a2ba5d1c82de4dab000",
      "max": 21356,
      "min": 0,
      "orientation": "horizontal",
      "style": "IPY_MODEL_ee81b7d623e64a30a047e07b156e28e7",
      "value": 4680
     }
    },
    "dccb2c47844a46099ed37b54840144dd": {
     "model_module": "@jupyter-widgets/base",
     "model_module_version": "1.2.0",
     "model_name": "LayoutModel",
     "state": {
      "_model_module": "@jupyter-widgets/base",
      "_model_module_version": "1.2.0",
      "_model_name": "LayoutModel",
      "_view_count": null,
      "_view_module": "@jupyter-widgets/base",
      "_view_module_version": "1.2.0",
      "_view_name": "LayoutView",
      "align_content": null,
      "align_items": null,
      "align_self": null,
      "border": null,
      "bottom": null,
      "display": null,
      "flex": null,
      "flex_flow": null,
      "grid_area": null,
      "grid_auto_columns": null,
      "grid_auto_flow": null,
      "grid_auto_rows": null,
      "grid_column": null,
      "grid_gap": null,
      "grid_row": null,
      "grid_template_areas": null,
      "grid_template_columns": null,
      "grid_template_rows": null,
      "height": null,
      "justify_content": null,
      "justify_items": null,
      "left": null,
      "margin": null,
      "max_height": null,
      "max_width": null,
      "min_height": null,
      "min_width": null,
      "object_fit": null,
      "object_position": null,
      "order": null,
      "overflow": null,
      "overflow_x": null,
      "overflow_y": null,
      "padding": null,
      "right": null,
      "top": null,
      "visibility": null,
      "width": null
     }
    },
    "ee81b7d623e64a30a047e07b156e28e7": {
     "model_module": "@jupyter-widgets/controls",
     "model_module_version": "1.5.0",
     "model_name": "ProgressStyleModel",
     "state": {
      "_model_module": "@jupyter-widgets/controls",
      "_model_module_version": "1.5.0",
      "_model_name": "ProgressStyleModel",
      "_view_count": null,
      "_view_module": "@jupyter-widgets/base",
      "_view_module_version": "1.2.0",
      "_view_name": "StyleView",
      "bar_color": null,
      "description_width": ""
     }
    },
    "f16bfcd8121a4651959d281cfcbb2429": {
     "model_module": "@jupyter-widgets/controls",
     "model_module_version": "1.5.0",
     "model_name": "HBoxModel",
     "state": {
      "_dom_classes": [],
      "_model_module": "@jupyter-widgets/controls",
      "_model_module_version": "1.5.0",
      "_model_name": "HBoxModel",
      "_view_count": null,
      "_view_module": "@jupyter-widgets/controls",
      "_view_module_version": "1.5.0",
      "_view_name": "HBoxView",
      "box_style": "",
      "children": [
       "IPY_MODEL_f65d3149d4de4ac2ac8465d406db7872",
       "IPY_MODEL_b8b316cb316e471a83c10c1159340c0f",
       "IPY_MODEL_376d700fb81b4c9fbdb92b077a7fc954"
      ],
      "layout": "IPY_MODEL_6b8258fa9fce433bb68779ada9a24c33"
     }
    },
    "f65d3149d4de4ac2ac8465d406db7872": {
     "model_module": "@jupyter-widgets/controls",
     "model_module_version": "1.5.0",
     "model_name": "HTMLModel",
     "state": {
      "_dom_classes": [],
      "_model_module": "@jupyter-widgets/controls",
      "_model_module_version": "1.5.0",
      "_model_name": "HTMLModel",
      "_view_count": null,
      "_view_module": "@jupyter-widgets/controls",
      "_view_module_version": "1.5.0",
      "_view_name": "HTMLView",
      "description": "",
      "description_tooltip": null,
      "layout": "IPY_MODEL_dccb2c47844a46099ed37b54840144dd",
      "placeholder": "​",
      "style": "IPY_MODEL_ae97e01b927d4c39be7f70a54ee71ab5",
      "value": "Epoch 0:  22%"
     }
    }
   }
  }
 },
 "nbformat": 4,
 "nbformat_minor": 0
}
